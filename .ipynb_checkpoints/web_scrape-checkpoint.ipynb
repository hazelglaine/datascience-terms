{
 "cells": [
  {
   "cell_type": "markdown",
   "id": "df292b49",
   "metadata": {},
   "source": [
    "<h3>Evolution of how select Philippine media used data science terms</h3>"
   ]
  },
  {
   "cell_type": "markdown",
   "id": "f9478221",
   "metadata": {},
   "source": [
    "<div class=\"text-justify\">Using Python webscraping packages (<i>BeautifulSoup</i> and <i>urllib</i>), news websites are crawled for news articles related to <b>data science</b>, <b>big data</b>, <b>artificial intelligence</b>, <b>analytics</b>, and <b>robotics</b>.</div>"
   ]
  },
  {
   "cell_type": "code",
   "execution_count": 1,
   "id": "64e66d8e",
   "metadata": {},
   "outputs": [],
   "source": [
    "from bs4 import BeautifulSoup\n",
    "import urllib.request,sys,time\n",
    "import requests\n",
    "import pandas as pd"
   ]
  },
  {
   "cell_type": "code",
   "execution_count": 2,
   "id": "64cc38cf",
   "metadata": {},
   "outputs": [],
   "source": [
    "def getdata(url):\n",
    "    try:\n",
    "        page = requests.get(url,\n",
    "                           headers={'User-Agent': 'Mozilla/5.0'})\n",
    "        return page.text\n",
    "    except Exception as e:\n",
    "        error_type, error_obj, error_info = sys.exc_info()\n",
    "        return \"Error:\"+ str(error_type)+\" in link(\"+str(url)+\") line:\"+str(error_info.tb_lineo)"
   ]
  },
  {
   "cell_type": "code",
   "execution_count": 36,
   "id": "9a1b4823",
   "metadata": {},
   "outputs": [],
   "source": [
    "def get_title(headline):\n",
    "    headline = list(title)\n",
    "    headline = str(title[3:-2])\n",
    "    return headline"
   ]
  },
  {
   "cell_type": "code",
   "execution_count": 37,
   "id": "d0b303fd",
   "metadata": {},
   "outputs": [],
   "source": [
    "htmldata = getdata(\"https://news.abs-cbn.com/news/07/06/22/philippines-records-1198-new-covid-19-cases-12-new-deaths\")\n",
    "soup = BeautifulSoup(htmldata,\"html.parser\")\n",
    "\n",
    "headline = soup.find(\"title\").get_text()\n",
    "link = soup.find(\"link\").get(\"href\")"
   ]
  },
  {
   "cell_type": "code",
   "execution_count": 38,
   "id": "3940e7b3",
   "metadata": {},
   "outputs": [],
   "source": [
    "file = open(get_title(headline)+\".txt\", \"w\")\n",
    "\n",
    "for data in soup.find_all(\"p\"):\n",
    "    sum = data.get_text()\n",
    "    file.writelines(sum)\n",
    "    \n",
    "file.writelines(\"\\n\"+link)\n",
    "file.close()"
   ]
  },
  {
   "cell_type": "code",
   "execution_count": 74,
   "id": "f11622dd",
   "metadata": {},
   "outputs": [],
   "source": [
    "import pandas as pd"
   ]
  },
  {
   "cell_type": "code",
   "execution_count": 80,
   "id": "3ad13402",
   "metadata": {},
   "outputs": [],
   "source": [
    "site = \"ABS-CBN\"\n",
    "page = []\n",
    "news_data = pd.DataFrame(columns=[\"site\",\"year\",\"link\",\"data_science_count\",\"analytics_count\",\"big_data_count\",\"robotics_count\",\"artificial_intelligence_count\"])\n",
    "with open(get_title(headline)+\".txt\",\"r\") as file:\n",
    "    for line in file:\n",
    "        for word in line.split():\n",
    "            page.append(word.lower())\n",
    "\n",
    "words = [\"data science\",\"analytics\",\"big data\",\"artificial intelligence\",\"robotics\"]\n",
    "\n",
    "#check =  any(item in words for item in page)\n",
    "#print(check,list(set(words)&set(page)))"
   ]
  },
  {
   "cell_type": "code",
   "execution_count": 84,
   "id": "3b5d63f0",
   "metadata": {},
   "outputs": [
    {
     "name": "stderr",
     "output_type": "stream",
     "text": [
      "/var/folders/8f/wts934z545dgqh4f0f9bq83w0000gn/T/ipykernel_86688/956475561.py:7: FutureWarning: The frame.append method is deprecated and will be removed from pandas in a future version. Use pandas.concat instead.\n",
      "  news_data = news_data.append(addData, ignore_index = True)\n"
     ]
    },
    {
     "data": {
      "text/html": [
       "<div>\n",
       "<style scoped>\n",
       "    .dataframe tbody tr th:only-of-type {\n",
       "        vertical-align: middle;\n",
       "    }\n",
       "\n",
       "    .dataframe tbody tr th {\n",
       "        vertical-align: top;\n",
       "    }\n",
       "\n",
       "    .dataframe thead th {\n",
       "        text-align: right;\n",
       "    }\n",
       "</style>\n",
       "<table border=\"1\" class=\"dataframe\">\n",
       "  <thead>\n",
       "    <tr style=\"text-align: right;\">\n",
       "      <th></th>\n",
       "      <th>site</th>\n",
       "      <th>year</th>\n",
       "      <th>link</th>\n",
       "      <th>data_science_count</th>\n",
       "      <th>analytics_count</th>\n",
       "      <th>big_data_count</th>\n",
       "      <th>robotics_count</th>\n",
       "      <th>artificial_intelligence_count</th>\n",
       "    </tr>\n",
       "  </thead>\n",
       "  <tbody>\n",
       "    <tr>\n",
       "      <th>0</th>\n",
       "      <td>ABS-CBN</td>\n",
       "      <td>2022</td>\n",
       "      <td>https://news.abs-cbn.com/amp/news/07/06/22/phi...</td>\n",
       "      <td>0</td>\n",
       "      <td>1</td>\n",
       "      <td>0</td>\n",
       "      <td>0</td>\n",
       "      <td>0</td>\n",
       "    </tr>\n",
       "    <tr>\n",
       "      <th>1</th>\n",
       "      <td>ABS-CBN</td>\n",
       "      <td>2022</td>\n",
       "      <td>https://news.abs-cbn.com/amp/news/07/06/22/phi...</td>\n",
       "      <td>0</td>\n",
       "      <td>1</td>\n",
       "      <td>0</td>\n",
       "      <td>0</td>\n",
       "      <td>0</td>\n",
       "    </tr>\n",
       "  </tbody>\n",
       "</table>\n",
       "</div>"
      ],
      "text/plain": [
       "      site  year                                               link  \\\n",
       "0  ABS-CBN  2022  https://news.abs-cbn.com/amp/news/07/06/22/phi...   \n",
       "1  ABS-CBN  2022  https://news.abs-cbn.com/amp/news/07/06/22/phi...   \n",
       "\n",
       "  data_science_count analytics_count big_data_count robotics_count  \\\n",
       "0                  0               1              0              0   \n",
       "1                  0               1              0              0   \n",
       "\n",
       "  artificial_intelligence_count  \n",
       "0                             0  \n",
       "1                             0  "
      ]
     },
     "execution_count": 84,
     "metadata": {},
     "output_type": "execute_result"
    }
   ],
   "source": [
    "addData = {\"site\": site, \"year\": page[7],\"link\":page[-1],\n",
    "           \"data_science_count\":page.count(words[0]),\n",
    "           \"analytics_count\":page.count(words[1]),\n",
    "           \"big_data_count\":page.count(words[2]),\n",
    "           \"robotics_count\":page.count(words[3]),\n",
    "           \"artificial_intelligence_count\":page.count(words[4])}\n",
    "news_data = news_data.append(addData, ignore_index = True)\n",
    "news_data"
   ]
  },
  {
   "cell_type": "code",
   "execution_count": null,
   "id": "fc52d044",
   "metadata": {},
   "outputs": [],
   "source": []
  }
 ],
 "metadata": {
  "kernelspec": {
   "display_name": "Python 3 (ipykernel)",
   "language": "python",
   "name": "python3"
  },
  "language_info": {
   "codemirror_mode": {
    "name": "ipython",
    "version": 3
   },
   "file_extension": ".py",
   "mimetype": "text/x-python",
   "name": "python",
   "nbconvert_exporter": "python",
   "pygments_lexer": "ipython3",
   "version": "3.9.12"
  }
 },
 "nbformat": 4,
 "nbformat_minor": 5
}
