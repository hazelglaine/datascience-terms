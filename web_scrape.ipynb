{
 "cells": [
  {
   "cell_type": "markdown",
   "id": "df292b49",
   "metadata": {},
   "source": [
    "<h3>Evolution of how select Philippine media used data science terms</h3>"
   ]
  },
  {
   "cell_type": "markdown",
   "id": "f9478221",
   "metadata": {},
   "source": [
    "<div class=\"text-justify\">Using Python webscraping packages (<i>BeautifulSoup</i> and <i>urllib</i>), news websites are crawled for news articles related to <b>data science</b>, <b>big data</b>, <b>artificial intelligence</b>, <b>analytics</b>, and <b>robotics</b>.</div>"
   ]
  },
  {
   "cell_type": "code",
   "execution_count": 34,
   "id": "64e66d8e",
   "metadata": {},
   "outputs": [],
   "source": [
    "from bs4 import BeautifulSoup\n",
    "import urllib.request,sys,time\n",
    "import requests\n",
    "import pandas as pd"
   ]
  },
  {
   "cell_type": "code",
   "execution_count": 72,
   "id": "64cc38cf",
   "metadata": {},
   "outputs": [],
   "source": [
    "def getdata(url):\n",
    "    try:\n",
    "        page = requests.get(url,\n",
    "                           headers={'User-Agent': 'Mozilla/5.0'})\n",
    "        return page.text\n",
    "    except Exception as e:\n",
    "        error_type, error_obj, error_info = sys.exc_info()\n",
    "        return \"Error:\"+ str(error_type)+\" in link(\"+str(url)+\") line:\"+str(error_info.tb_lineo)"
   ]
  },
  {
   "cell_type": "code",
   "execution_count": 100,
   "id": "d0b303fd",
   "metadata": {},
   "outputs": [],
   "source": [
    "htmldata = getdata(\"https://news.abs-cbn.com/business/08/22/22/ph-ai-research-center-to-open-in-september\")\n",
    "soup = BeautifulSoup(htmldata,\"html.parser\")\n",
    "\n",
    "title = soup.find(\"title\").get_text()\n",
    "link = soup.find(\"link\").get(\"href\")\n",
    "#date = soup.find(\"article:published_time\").get_text()\n",
    "\n",
    "file = open(str(title)+\".txt\", \"w\")\n",
    "\n",
    "for data in soup.find_all(\"p\"):\n",
    "    sum = data.get_text()\n",
    "    file.writelines(sum)    \n",
    "file.close()"
   ]
  },
  {
   "cell_type": "code",
   "execution_count": 33,
   "id": "3ad13402",
   "metadata": {},
   "outputs": [
    {
     "name": "stdout",
     "output_type": "stream",
     "text": [
      "yes\n"
     ]
    }
   ],
   "source": [
    "words = [\"data science\",\"big data\",\"analytics\",\"artificial intelligence\",\"robotics\"]\n",
    "\n",
    "if \"answer\" in page:\n",
    "    print(\"yes\")"
   ]
  },
  {
   "cell_type": "code",
   "execution_count": null,
   "id": "9a1b4823",
   "metadata": {},
   "outputs": [],
   "source": []
  },
  {
   "cell_type": "code",
   "execution_count": null,
   "id": "3940e7b3",
   "metadata": {},
   "outputs": [],
   "source": []
  }
 ],
 "metadata": {
  "kernelspec": {
   "display_name": "Python 3 (ipykernel)",
   "language": "python",
   "name": "python3"
  },
  "language_info": {
   "codemirror_mode": {
    "name": "ipython",
    "version": 3
   },
   "file_extension": ".py",
   "mimetype": "text/x-python",
   "name": "python",
   "nbconvert_exporter": "python",
   "pygments_lexer": "ipython3",
   "version": "3.9.12"
  }
 },
 "nbformat": 4,
 "nbformat_minor": 5
}
